{
  "nbformat": 4,
  "nbformat_minor": 0,
  "metadata": {
    "colab": {
      "name": "Untitled5.ipynb",
      "provenance": [],
      "collapsed_sections": [],
      "authorship_tag": "ABX9TyPXPCi1xkPa5XKdIMJt9zGH",
      "include_colab_link": true
    },
    "kernelspec": {
      "name": "python3",
      "display_name": "Python 3"
    },
    "language_info": {
      "name": "python"
    }
  },
  "cells": [
    {
      "cell_type": "markdown",
      "metadata": {
        "id": "view-in-github",
        "colab_type": "text"
      },
      "source": [
        "<a href=\"https://colab.research.google.com/github/burcia1711/word-order-simulation/blob/main/main.ipynb\" target=\"_parent\"><img src=\"https://colab.research.google.com/assets/colab-badge.svg\" alt=\"Open In Colab\"/></a>"
      ]
    },
    {
      "cell_type": "markdown",
      "source": [
        "# **IMPORTS AND OTHER FUNCTIONALITIES**"
      ],
      "metadata": {
        "id": "2qAwN9pW8pLu"
      }
    },
    {
      "cell_type": "code",
      "source": [
        "import random\n",
        "from copy import deepcopy \n",
        "from numpy.random import normal\n",
        "import numpy\n",
        "from scipy.stats import beta\n",
        "from scipy.special import logsumexp\n",
        "from math import log, log1p, exp\n",
        "\n",
        "%matplotlib inline\n",
        "import matplotlib.pyplot as plt\n",
        "from IPython.display import set_matplotlib_formats\n",
        "set_matplotlib_formats('svg', 'pdf')\n",
        "\n",
        "personalities = ['F', 'S'] #F for flexible, S for stubborn\n",
        "\n",
        "sentence_type = ['reversible', 'irreversible']\n",
        "sentence_weights = [7, 3]\n",
        "\n",
        "basic_orders = ['SOV', 'SVO', 'OSV', 'OVS', 'VSO', 'VOS']\n",
        "\n",
        "start = 0\n",
        "stop = 2\n",
        "\n"
      ],
      "metadata": {
        "id": "G08htJIosOw4"
      },
      "execution_count": null,
      "outputs": []
    },
    {
      "cell_type": "markdown",
      "source": [
        "## **LANGUAGE**\n",
        "\n",
        "There are different types of languages (logical, agglutinative, etc.). So, if a languagua evolve one of them, then there will be consequences accordingly.\n"
      ],
      "metadata": {
        "id": "iI1tnjw4mnYa"
      }
    },
    {
      "cell_type": "code",
      "source": [
        "class Language:\n",
        "  def __init__(self, typ, age, pop):\n",
        "    self.typ = typ\n",
        "    self.age = age\n",
        "    self.population = pop"
      ],
      "metadata": {
        "id": "kVy74Iw1mrMX"
      },
      "execution_count": null,
      "outputs": []
    },
    {
      "cell_type": "markdown",
      "source": [
        "## **AGENTS**\n",
        "\n",
        "Agents are humans, they have:\n",
        "\n",
        "*   generation number (1st, 2nd, 10th, etc.) \n",
        "*   personality type (stubborn or flexible)\n",
        "*   is affected by any other languge (1 is for True, 0 is for False)\n",
        "\n"
      ],
      "metadata": {
        "id": "Y22Y6qlYri1K"
      }
    },
    {
      "cell_type": "code",
      "source": [
        "class Agent:\n",
        "\n",
        "  def __init__(self, g, p, l):\n",
        "    self.generation = g\n",
        "    self.personality = p\n",
        "    self.ling = l\n",
        "\n"
      ],
      "metadata": {
        "id": "1xtSMx4lrnfR"
      },
      "execution_count": null,
      "outputs": []
    },
    {
      "cell_type": "code",
      "source": [
        "#create agents (humans :D)\n",
        "def make_agent(agent):\n",
        "    return [agent.generation, agent.personality, agent.ling]"
      ],
      "metadata": {
        "id": "QOCLF7OtsW6U"
      },
      "execution_count": null,
      "outputs": []
    },
    {
      "cell_type": "markdown",
      "source": [
        "## **POPULATIONS**\n",
        "\n",
        "Populations are based on number of people (N) in a particular generation"
      ],
      "metadata": {
        "id": "MrmSfCJzrpvx"
      }
    },
    {
      "cell_type": "code",
      "source": [
        "def make_agents(N, G):\n",
        "    gen = G\n",
        "    population = []\n",
        "\n",
        "    for i in range(N): \n",
        "        l = random.randint(0,1)\n",
        "        p = random.randint(0,1)\n",
        "        agent = Agent(gen, personalities[p], l)\n",
        "        population.append(make_agent(agent))\n",
        "\n",
        "    return population\n",
        "\n",
        "\n",
        "# Check that this works by making a population of 8 agents\n",
        "\n",
        "make_agents(8,0)\n"
      ],
      "metadata": {
        "id": "uYeN-rr4rpXm",
        "colab": {
          "base_uri": "https://localhost:8080/"
        },
        "outputId": "2a9293fe-2dc2-4197-a632-71bc5aecfd5d"
      },
      "execution_count": null,
      "outputs": [
        {
          "output_type": "execute_result",
          "data": {
            "text/plain": [
              "[[0, 'F', 0],\n",
              " [0, 'F', 0],\n",
              " [0, 'F', 1],\n",
              " [0, 'S', 0],\n",
              " [0, 'F', 0],\n",
              " [0, 'F', 0],\n",
              " [0, 'S', 1],\n",
              " [0, 'F', 0]]"
            ]
          },
          "metadata": {},
          "execution_count": 37
        }
      ]
    },
    {
      "cell_type": "code",
      "source": [
        "def create_population(starting_pop, n_generations):\n",
        "  people_in_population = []\n",
        "  for i in range(n_generations): \n",
        "    if i == 0:\n",
        "      people_in_population.extend(make_agents(starting_pop, i))\n",
        "    else:\n",
        "      people_in_population.extend(make_agents(int(len(people_in_population)*(random.randrange(start, stop+1)+0.3)), i))\n",
        "    print(len(people_in_population))\n",
        "\n",
        "  print(people_in_population)\n",
        "    \n",
        "create_population(5, 10)\n",
        "  "
      ],
      "metadata": {
        "id": "IAd0HlLdwmfu",
        "colab": {
          "base_uri": "https://localhost:8080/"
        },
        "outputId": "6b891990-a94c-4baf-8b51-209033f66960"
      },
      "execution_count": null,
      "outputs": [
        {
          "output_type": "stream",
          "name": "stdout",
          "text": [
            "5\n",
            "11\n",
            "25\n",
            "32\n",
            "41\n",
            "53\n",
            "68\n",
            "88\n",
            "290\n",
            "667\n",
            "[[0, 'S', 0], [0, 'S', 1], [0, 'S', 0], [0, 'S', 1], [0, 'S', 0], [1, 'F', 1], [1, 'S', 0], [1, 'F', 0], [1, 'F', 0], [1, 'F', 1], [1, 'F', 0], [2, 'F', 0], [2, 'S', 1], [2, 'F', 0], [2, 'F', 1], [2, 'S', 0], [2, 'S', 0], [2, 'F', 1], [2, 'S', 1], [2, 'S', 1], [2, 'F', 0], [2, 'S', 1], [2, 'S', 0], [2, 'S', 0], [2, 'S', 0], [3, 'S', 0], [3, 'F', 1], [3, 'F', 0], [3, 'S', 1], [3, 'F', 1], [3, 'S', 1], [3, 'S', 0], [4, 'F', 1], [4, 'S', 1], [4, 'S', 0], [4, 'F', 0], [4, 'F', 0], [4, 'S', 1], [4, 'S', 1], [4, 'F', 1], [4, 'F', 0], [5, 'S', 1], [5, 'F', 1], [5, 'F', 0], [5, 'F', 0], [5, 'F', 1], [5, 'F', 1], [5, 'S', 0], [5, 'S', 1], [5, 'F', 0], [5, 'S', 0], [5, 'S', 0], [5, 'S', 0], [6, 'F', 0], [6, 'F', 1], [6, 'S', 1], [6, 'S', 0], [6, 'F', 0], [6, 'F', 1], [6, 'F', 1], [6, 'F', 0], [6, 'S', 1], [6, 'S', 0], [6, 'S', 0], [6, 'F', 0], [6, 'F', 1], [6, 'S', 0], [6, 'F', 0], [7, 'S', 1], [7, 'F', 0], [7, 'S', 0], [7, 'S', 1], [7, 'F', 0], [7, 'F', 0], [7, 'F', 1], [7, 'S', 1], [7, 'S', 0], [7, 'S', 0], [7, 'S', 1], [7, 'F', 1], [7, 'S', 1], [7, 'F', 0], [7, 'S', 0], [7, 'F', 0], [7, 'F', 1], [7, 'S', 0], [7, 'F', 1], [7, 'F', 1], [8, 'F', 1], [8, 'S', 0], [8, 'F', 1], [8, 'S', 0], [8, 'S', 1], [8, 'F', 1], [8, 'S', 1], [8, 'F', 0], [8, 'F', 1], [8, 'S', 1], [8, 'S', 1], [8, 'S', 0], [8, 'S', 1], [8, 'S', 0], [8, 'S', 0], [8, 'F', 1], [8, 'F', 1], [8, 'F', 1], [8, 'F', 1], [8, 'S', 1], [8, 'S', 1], [8, 'F', 0], [8, 'F', 0], [8, 'F', 0], [8, 'F', 1], [8, 'S', 1], [8, 'S', 1], [8, 'S', 0], [8, 'S', 0], [8, 'F', 0], [8, 'S', 0], [8, 'F', 0], [8, 'F', 1], [8, 'S', 1], [8, 'S', 1], [8, 'F', 0], [8, 'S', 0], [8, 'S', 1], [8, 'F', 0], [8, 'S', 0], [8, 'S', 0], [8, 'F', 1], [8, 'F', 1], [8, 'S', 0], [8, 'F', 1], [8, 'S', 1], [8, 'F', 1], [8, 'S', 1], [8, 'S', 0], [8, 'F', 1], [8, 'F', 0], [8, 'F', 0], [8, 'F', 1], [8, 'S', 0], [8, 'F', 0], [8, 'S', 1], [8, 'S', 0], [8, 'F', 1], [8, 'F', 1], [8, 'S', 0], [8, 'F', 1], [8, 'S', 0], [8, 'S', 0], [8, 'S', 0], [8, 'F', 1], [8, 'F', 1], [8, 'F', 1], [8, 'F', 0], [8, 'S', 0], [8, 'S', 1], [8, 'F', 1], [8, 'F', 1], [8, 'F', 0], [8, 'S', 1], [8, 'S', 1], [8, 'S', 0], [8, 'F', 0], [8, 'S', 0], [8, 'F', 1], [8, 'F', 0], [8, 'S', 1], [8, 'S', 0], [8, 'S', 1], [8, 'S', 0], [8, 'S', 0], [8, 'F', 1], [8, 'F', 0], [8, 'S', 0], [8, 'F', 1], [8, 'S', 0], [8, 'F', 0], [8, 'S', 1], [8, 'S', 1], [8, 'S', 0], [8, 'F', 0], [8, 'F', 0], [8, 'S', 0], [8, 'F', 0], [8, 'S', 0], [8, 'F', 1], [8, 'S', 1], [8, 'F', 1], [8, 'S', 1], [8, 'F', 0], [8, 'S', 0], [8, 'S', 1], [8, 'F', 0], [8, 'S', 1], [8, 'S', 0], [8, 'S', 1], [8, 'S', 1], [8, 'S', 1], [8, 'S', 0], [8, 'S', 0], [8, 'S', 1], [8, 'F', 1], [8, 'S', 0], [8, 'S', 0], [8, 'S', 0], [8, 'F', 1], [8, 'F', 0], [8, 'F', 0], [8, 'S', 1], [8, 'F', 0], [8, 'F', 1], [8, 'S', 0], [8, 'F', 1], [8, 'F', 0], [8, 'S', 0], [8, 'S', 0], [8, 'F', 0], [8, 'F', 1], [8, 'S', 1], [8, 'S', 1], [8, 'F', 0], [8, 'F', 0], [8, 'S', 0], [8, 'S', 1], [8, 'F', 0], [8, 'S', 0], [8, 'S', 0], [8, 'S', 1], [8, 'S', 0], [8, 'S', 0], [8, 'S', 1], [8, 'F', 1], [8, 'S', 0], [8, 'F', 1], [8, 'F', 0], [8, 'S', 0], [8, 'F', 1], [8, 'F', 0], [8, 'S', 1], [8, 'S', 0], [8, 'F', 1], [8, 'S', 0], [8, 'S', 1], [8, 'S', 0], [8, 'F', 1], [8, 'S', 0], [8, 'S', 0], [8, 'S', 1], [8, 'F', 0], [8, 'S', 1], [8, 'F', 1], [8, 'F', 1], [8, 'S', 0], [8, 'F', 0], [8, 'S', 0], [8, 'F', 0], [8, 'F', 1], [8, 'F', 1], [8, 'F', 0], [8, 'S', 0], [8, 'F', 0], [8, 'F', 0], [8, 'S', 1], [8, 'F', 0], [8, 'S', 0], [8, 'S', 1], [8, 'F', 0], [8, 'F', 0], [8, 'F', 1], [8, 'F', 0], [8, 'F', 1], [8, 'F', 1], [8, 'S', 1], [8, 'S', 1], [8, 'S', 0], [8, 'S', 0], [8, 'F', 0], [8, 'F', 1], [8, 'F', 1], [8, 'F', 1], [8, 'F', 0], [8, 'F', 0], [8, 'S', 0], [8, 'F', 1], [8, 'F', 1], [8, 'S', 1], [8, 'S', 1], [8, 'F', 0], [9, 'S', 0], [9, 'S', 0], [9, 'F', 1], [9, 'F', 0], [9, 'F', 0], [9, 'S', 0], [9, 'F', 1], [9, 'F', 1], [9, 'S', 1], [9, 'F', 0], [9, 'F', 1], [9, 'S', 0], [9, 'F', 1], [9, 'F', 0], [9, 'S', 1], [9, 'S', 0], [9, 'S', 0], [9, 'S', 0], [9, 'S', 1], [9, 'F', 0], [9, 'F', 0], [9, 'F', 1], [9, 'F', 0], [9, 'S', 0], [9, 'S', 1], [9, 'S', 0], [9, 'F', 0], [9, 'S', 1], [9, 'S', 1], [9, 'S', 0], [9, 'F', 1], [9, 'F', 1], [9, 'F', 1], [9, 'F', 0], [9, 'S', 1], [9, 'S', 1], [9, 'S', 0], [9, 'S', 0], [9, 'S', 0], [9, 'F', 1], [9, 'F', 0], [9, 'F', 1], [9, 'F', 1], [9, 'S', 1], [9, 'S', 0], [9, 'F', 1], [9, 'F', 0], [9, 'F', 0], [9, 'F', 1], [9, 'S', 0], [9, 'S', 0], [9, 'S', 0], [9, 'F', 1], [9, 'F', 0], [9, 'F', 0], [9, 'S', 0], [9, 'F', 1], [9, 'F', 0], [9, 'F', 1], [9, 'F', 0], [9, 'F', 0], [9, 'F', 0], [9, 'F', 0], [9, 'F', 0], [9, 'S', 0], [9, 'S', 0], [9, 'F', 0], [9, 'S', 0], [9, 'F', 0], [9, 'S', 0], [9, 'F', 1], [9, 'F', 0], [9, 'S', 0], [9, 'S', 0], [9, 'S', 0], [9, 'S', 1], [9, 'F', 0], [9, 'F', 0], [9, 'S', 1], [9, 'S', 1], [9, 'F', 0], [9, 'S', 0], [9, 'S', 1], [9, 'F', 0], [9, 'S', 0], [9, 'F', 0], [9, 'F', 0], [9, 'S', 0], [9, 'F', 0], [9, 'F', 0], [9, 'S', 0], [9, 'F', 1], [9, 'F', 1], [9, 'F', 1], [9, 'F', 0], [9, 'F', 0], [9, 'S', 0], [9, 'F', 1], [9, 'S', 1], [9, 'S', 1], [9, 'S', 0], [9, 'F', 1], [9, 'S', 1], [9, 'F', 1], [9, 'F', 1], [9, 'F', 1], [9, 'S', 0], [9, 'F', 1], [9, 'F', 1], [9, 'F', 1], [9, 'S', 0], [9, 'F', 1], [9, 'F', 0], [9, 'S', 1], [9, 'S', 0], [9, 'F', 0], [9, 'S', 0], [9, 'F', 0], [9, 'S', 0], [9, 'S', 1], [9, 'F', 0], [9, 'F', 0], [9, 'F', 0], [9, 'S', 1], [9, 'S', 0], [9, 'S', 0], [9, 'S', 1], [9, 'F', 0], [9, 'S', 1], [9, 'F', 0], [9, 'S', 1], [9, 'S', 0], [9, 'S', 1], [9, 'F', 0], [9, 'S', 0], [9, 'F', 0], [9, 'S', 0], [9, 'F', 0], [9, 'S', 0], [9, 'F', 1], [9, 'F', 1], [9, 'F', 1], [9, 'S', 0], [9, 'F', 1], [9, 'F', 1], [9, 'F', 1], [9, 'F', 1], [9, 'F', 0], [9, 'S', 1], [9, 'S', 1], [9, 'F', 0], [9, 'F', 0], [9, 'F', 0], [9, 'S', 1], [9, 'S', 1], [9, 'S', 0], [9, 'F', 1], [9, 'S', 1], [9, 'S', 0], [9, 'F', 0], [9, 'S', 1], [9, 'F', 0], [9, 'S', 1], [9, 'S', 1], [9, 'S', 1], [9, 'S', 1], [9, 'F', 1], [9, 'F', 0], [9, 'F', 0], [9, 'F', 0], [9, 'S', 1], [9, 'F', 0], [9, 'F', 1], [9, 'S', 1], [9, 'S', 0], [9, 'F', 1], [9, 'F', 0], [9, 'F', 1], [9, 'F', 0], [9, 'S', 1], [9, 'S', 1], [9, 'F', 0], [9, 'S', 1], [9, 'S', 1], [9, 'F', 1], [9, 'S', 1], [9, 'F', 1], [9, 'S', 1], [9, 'S', 0], [9, 'F', 0], [9, 'F', 0], [9, 'S', 0], [9, 'F', 1], [9, 'S', 0], [9, 'S', 1], [9, 'S', 0], [9, 'S', 0], [9, 'F', 0], [9, 'F', 1], [9, 'S', 0], [9, 'F', 0], [9, 'F', 0], [9, 'F', 1], [9, 'S', 1], [9, 'F', 1], [9, 'S', 1], [9, 'S', 1], [9, 'F', 0], [9, 'S', 1], [9, 'F', 1], [9, 'F', 1], [9, 'S', 1], [9, 'F', 0], [9, 'F', 0], [9, 'F', 0], [9, 'S', 0], [9, 'F', 0], [9, 'S', 0], [9, 'F', 0], [9, 'F', 1], [9, 'S', 0], [9, 'S', 0], [9, 'S', 1], [9, 'S', 0], [9, 'S', 1], [9, 'S', 0], [9, 'F', 0], [9, 'F', 1], [9, 'S', 1], [9, 'F', 0], [9, 'S', 1], [9, 'S', 1], [9, 'F', 1], [9, 'F', 1], [9, 'F', 1], [9, 'S', 1], [9, 'S', 1], [9, 'S', 1], [9, 'S', 1], [9, 'S', 1], [9, 'S', 0], [9, 'S', 0], [9, 'S', 0], [9, 'S', 1], [9, 'S', 0], [9, 'S', 0], [9, 'F', 0], [9, 'F', 0], [9, 'S', 0], [9, 'S', 1], [9, 'S', 1], [9, 'F', 0], [9, 'S', 0], [9, 'S', 1], [9, 'S', 1], [9, 'F', 0], [9, 'S', 1], [9, 'F', 0], [9, 'F', 1], [9, 'S', 1], [9, 'S', 0], [9, 'S', 1], [9, 'S', 0], [9, 'S', 1], [9, 'F', 0], [9, 'S', 1], [9, 'F', 0], [9, 'S', 1], [9, 'S', 0], [9, 'F', 1], [9, 'S', 0], [9, 'S', 0], [9, 'S', 1], [9, 'F', 1], [9, 'S', 1], [9, 'S', 0], [9, 'F', 1], [9, 'S', 1], [9, 'F', 0], [9, 'F', 0], [9, 'S', 0], [9, 'F', 0], [9, 'F', 0], [9, 'F', 0], [9, 'F', 1], [9, 'S', 1], [9, 'F', 0], [9, 'F', 1], [9, 'S', 0], [9, 'F', 0], [9, 'F', 0], [9, 'S', 0], [9, 'S', 0], [9, 'F', 0], [9, 'S', 0], [9, 'S', 1], [9, 'S', 0], [9, 'F', 0], [9, 'F', 0], [9, 'S', 1], [9, 'S', 1], [9, 'F', 0], [9, 'S', 0], [9, 'S', 0], [9, 'F', 1], [9, 'F', 1], [9, 'F', 0], [9, 'F', 0], [9, 'S', 1], [9, 'S', 0], [9, 'S', 1], [9, 'F', 1], [9, 'S', 0], [9, 'F', 0], [9, 'F', 0], [9, 'F', 0], [9, 'S', 1], [9, 'F', 1], [9, 'F', 1], [9, 'F', 1], [9, 'S', 0], [9, 'F', 0], [9, 'F', 0], [9, 'F', 1], [9, 'S', 1], [9, 'F', 0], [9, 'S', 1], [9, 'S', 0], [9, 'F', 1], [9, 'S', 0], [9, 'F', 0], [9, 'S', 1], [9, 'S', 1], [9, 'S', 0], [9, 'F', 1], [9, 'F', 0], [9, 'S', 0], [9, 'F', 0], [9, 'F', 0], [9, 'F', 0], [9, 'F', 0], [9, 'F', 1], [9, 'S', 0], [9, 'F', 1], [9, 'F', 1], [9, 'S', 1], [9, 'F', 1], [9, 'F', 0], [9, 'S', 1], [9, 'S', 0], [9, 'F', 0], [9, 'F', 0], [9, 'F', 1], [9, 'F', 0], [9, 'F', 0], [9, 'F', 1], [9, 'F', 1], [9, 'F', 0], [9, 'S', 0], [9, 'F', 0], [9, 'S', 1], [9, 'S', 1], [9, 'S', 1], [9, 'S', 0], [9, 'S', 1], [9, 'S', 0], [9, 'S', 1], [9, 'F', 1], [9, 'F', 1], [9, 'F', 0], [9, 'F', 1], [9, 'F', 1], [9, 'F', 1], [9, 'S', 0], [9, 'F', 1], [9, 'F', 1], [9, 'S', 1]]\n"
          ]
        }
      ]
    },
    {
      "cell_type": "markdown",
      "source": [
        "## **WORD ORDER and SENTENCE GENERATION**\n",
        "\n"
      ],
      "metadata": {
        "id": "lDhFCk2q-Ai2"
      }
    },
    {
      "cell_type": "code",
      "source": [
        "WORD_ORDER_LIST = []\n",
        "\n",
        "WORD_ORDER_LIST = random.choices(basic_orders, weights = [10, 7, 1, 1, 1, 1], k = 100)"
      ],
      "metadata": {
        "id": "DbiigJ0CAkVJ"
      },
      "execution_count": null,
      "outputs": []
    },
    {
      "cell_type": "code",
      "source": [
        "from collections import Counter\n",
        "import pandas\n",
        "\n",
        "def plot_freq_list(l):\n",
        "  count = Counter(sorted(l))\n",
        "  df = pandas.DataFrame.from_dict(count, orient='index')\n",
        "  df.plot(kind='bar')\n"
      ],
      "metadata": {
        "id": "Bw2SzGUmiIpc"
      },
      "execution_count": null,
      "outputs": []
    },
    {
      "cell_type": "code",
      "source": [
        "def make_utterance(n):\n",
        "  return random.choices(sentence_type, weights =sentence_weights, k = n)\n",
        "\n",
        "utterence_list =[] \n",
        "utterence_list = make_utterance(500)\n",
        "\n",
        "plot_freq_list(utterence_list)\n",
        "plot_freq_list(WORD_ORDER_LIST)"
      ],
      "metadata": {
        "id": "OBrmagiT-I4Z",
        "colab": {
          "base_uri": "https://localhost:8080/",
          "height": 765
        },
        "outputId": "cdc4c1c1-8660-4f63-f614-8be144a8ddf4"
      },
      "execution_count": null,
      "outputs": [
        {
          "output_type": "display_data",
          "data": {
            "text/plain": [
              "<Figure size 432x288 with 1 Axes>"
            ],
            "image/svg+xml": "<?xml version=\"1.0\" encoding=\"utf-8\" standalone=\"no\"?>\n<!DOCTYPE svg PUBLIC \"-//W3C//DTD SVG 1.1//EN\"\n  \"http://www.w3.org/Graphics/SVG/1.1/DTD/svg11.dtd\">\n<!-- Created with matplotlib (https://matplotlib.org/) -->\n<svg height=\"295.043125pt\" version=\"1.1\" viewBox=\"0 0 375.2875 295.043125\" width=\"375.2875pt\" xmlns=\"http://www.w3.org/2000/svg\" xmlns:xlink=\"http://www.w3.org/1999/xlink\">\n <defs>\n  <style type=\"text/css\">\n*{stroke-linecap:butt;stroke-linejoin:round;}\n  </style>\n </defs>\n <g id=\"figure_1\">\n  <g id=\"patch_1\">\n   <path d=\"M 0 295.043125 \nL 375.2875 295.043125 \nL 375.2875 0 \nL 0 0 \nz\n\" style=\"fill:none;\"/>\n  </g>\n  <g id=\"axes_1\">\n   <g id=\"patch_2\">\n    <path d=\"M 33.2875 224.64 \nL 368.0875 224.64 \nL 368.0875 7.2 \nL 33.2875 7.2 \nz\n\" style=\"fill:#ffffff;\"/>\n   </g>\n   <g id=\"patch_3\">\n    <path clip-path=\"url(#p5f4d1e9488)\" d=\"M 75.1375 224.64 \nL 158.8375 224.64 \nL 158.8375 117.005784 \nL 75.1375 117.005784 \nz\n\" style=\"fill:#1f77b4;\"/>\n   </g>\n   <g id=\"patch_4\">\n    <path clip-path=\"url(#p5f4d1e9488)\" d=\"M 242.5375 224.64 \nL 326.2375 224.64 \nL 326.2375 17.554286 \nL 242.5375 17.554286 \nz\n\" style=\"fill:#1f77b4;\"/>\n   </g>\n   <g id=\"matplotlib.axis_1\">\n    <g id=\"xtick_1\">\n     <g id=\"line2d_1\">\n      <defs>\n       <path d=\"M 0 0 \nL 0 3.5 \n\" id=\"mcff57660d9\" style=\"stroke:#000000;stroke-width:0.8;\"/>\n      </defs>\n      <g>\n       <use style=\"stroke:#000000;stroke-width:0.8;\" x=\"116.9875\" xlink:href=\"#mcff57660d9\" y=\"224.64\"/>\n      </g>\n     </g>\n     <g id=\"text_1\">\n      <!-- irreversible -->\n      <defs>\n       <path d=\"M 9.421875 54.6875 \nL 18.40625 54.6875 \nL 18.40625 0 \nL 9.421875 0 \nz\nM 9.421875 75.984375 \nL 18.40625 75.984375 \nL 18.40625 64.59375 \nL 9.421875 64.59375 \nz\n\" id=\"DejaVuSans-105\"/>\n       <path d=\"M 41.109375 46.296875 \nQ 39.59375 47.171875 37.8125 47.578125 \nQ 36.03125 48 33.890625 48 \nQ 26.265625 48 22.1875 43.046875 \nQ 18.109375 38.09375 18.109375 28.8125 \nL 18.109375 0 \nL 9.078125 0 \nL 9.078125 54.6875 \nL 18.109375 54.6875 \nL 18.109375 46.1875 \nQ 20.953125 51.171875 25.484375 53.578125 \nQ 30.03125 56 36.53125 56 \nQ 37.453125 56 38.578125 55.875 \nQ 39.703125 55.765625 41.0625 55.515625 \nz\n\" id=\"DejaVuSans-114\"/>\n       <path d=\"M 56.203125 29.59375 \nL 56.203125 25.203125 \nL 14.890625 25.203125 \nQ 15.484375 15.921875 20.484375 11.0625 \nQ 25.484375 6.203125 34.421875 6.203125 \nQ 39.59375 6.203125 44.453125 7.46875 \nQ 49.3125 8.734375 54.109375 11.28125 \nL 54.109375 2.78125 \nQ 49.265625 0.734375 44.1875 -0.34375 \nQ 39.109375 -1.421875 33.890625 -1.421875 \nQ 20.796875 -1.421875 13.15625 6.1875 \nQ 5.515625 13.8125 5.515625 26.8125 \nQ 5.515625 40.234375 12.765625 48.109375 \nQ 20.015625 56 32.328125 56 \nQ 43.359375 56 49.78125 48.890625 \nQ 56.203125 41.796875 56.203125 29.59375 \nz\nM 47.21875 32.234375 \nQ 47.125 39.59375 43.09375 43.984375 \nQ 39.0625 48.390625 32.421875 48.390625 \nQ 24.90625 48.390625 20.390625 44.140625 \nQ 15.875 39.890625 15.1875 32.171875 \nz\n\" id=\"DejaVuSans-101\"/>\n       <path d=\"M 2.984375 54.6875 \nL 12.5 54.6875 \nL 29.59375 8.796875 \nL 46.6875 54.6875 \nL 56.203125 54.6875 \nL 35.6875 0 \nL 23.484375 0 \nz\n\" id=\"DejaVuSans-118\"/>\n       <path d=\"M 44.28125 53.078125 \nL 44.28125 44.578125 \nQ 40.484375 46.53125 36.375 47.5 \nQ 32.28125 48.484375 27.875 48.484375 \nQ 21.1875 48.484375 17.84375 46.4375 \nQ 14.5 44.390625 14.5 40.28125 \nQ 14.5 37.15625 16.890625 35.375 \nQ 19.28125 33.59375 26.515625 31.984375 \nL 29.59375 31.296875 \nQ 39.15625 29.25 43.1875 25.515625 \nQ 47.21875 21.78125 47.21875 15.09375 \nQ 47.21875 7.46875 41.1875 3.015625 \nQ 35.15625 -1.421875 24.609375 -1.421875 \nQ 20.21875 -1.421875 15.453125 -0.5625 \nQ 10.6875 0.296875 5.421875 2 \nL 5.421875 11.28125 \nQ 10.40625 8.6875 15.234375 7.390625 \nQ 20.0625 6.109375 24.8125 6.109375 \nQ 31.15625 6.109375 34.5625 8.28125 \nQ 37.984375 10.453125 37.984375 14.40625 \nQ 37.984375 18.0625 35.515625 20.015625 \nQ 33.0625 21.96875 24.703125 23.78125 \nL 21.578125 24.515625 \nQ 13.234375 26.265625 9.515625 29.90625 \nQ 5.8125 33.546875 5.8125 39.890625 \nQ 5.8125 47.609375 11.28125 51.796875 \nQ 16.75 56 26.8125 56 \nQ 31.78125 56 36.171875 55.265625 \nQ 40.578125 54.546875 44.28125 53.078125 \nz\n\" id=\"DejaVuSans-115\"/>\n       <path d=\"M 48.6875 27.296875 \nQ 48.6875 37.203125 44.609375 42.84375 \nQ 40.53125 48.484375 33.40625 48.484375 \nQ 26.265625 48.484375 22.1875 42.84375 \nQ 18.109375 37.203125 18.109375 27.296875 \nQ 18.109375 17.390625 22.1875 11.75 \nQ 26.265625 6.109375 33.40625 6.109375 \nQ 40.53125 6.109375 44.609375 11.75 \nQ 48.6875 17.390625 48.6875 27.296875 \nz\nM 18.109375 46.390625 \nQ 20.953125 51.265625 25.265625 53.625 \nQ 29.59375 56 35.59375 56 \nQ 45.5625 56 51.78125 48.09375 \nQ 58.015625 40.1875 58.015625 27.296875 \nQ 58.015625 14.40625 51.78125 6.484375 \nQ 45.5625 -1.421875 35.59375 -1.421875 \nQ 29.59375 -1.421875 25.265625 0.953125 \nQ 20.953125 3.328125 18.109375 8.203125 \nL 18.109375 0 \nL 9.078125 0 \nL 9.078125 75.984375 \nL 18.109375 75.984375 \nz\n\" id=\"DejaVuSans-98\"/>\n       <path d=\"M 9.421875 75.984375 \nL 18.40625 75.984375 \nL 18.40625 0 \nL 9.421875 0 \nz\n\" id=\"DejaVuSans-108\"/>\n      </defs>\n      <g transform=\"translate(119.746875 287.843125)rotate(-90)scale(0.1 -0.1)\">\n       <use xlink:href=\"#DejaVuSans-105\"/>\n       <use x=\"27.783203\" xlink:href=\"#DejaVuSans-114\"/>\n       <use x=\"67.146484\" xlink:href=\"#DejaVuSans-114\"/>\n       <use x=\"106.009766\" xlink:href=\"#DejaVuSans-101\"/>\n       <use x=\"167.533203\" xlink:href=\"#DejaVuSans-118\"/>\n       <use x=\"226.712891\" xlink:href=\"#DejaVuSans-101\"/>\n       <use x=\"288.236328\" xlink:href=\"#DejaVuSans-114\"/>\n       <use x=\"329.349609\" xlink:href=\"#DejaVuSans-115\"/>\n       <use x=\"381.449219\" xlink:href=\"#DejaVuSans-105\"/>\n       <use x=\"409.232422\" xlink:href=\"#DejaVuSans-98\"/>\n       <use x=\"472.708984\" xlink:href=\"#DejaVuSans-108\"/>\n       <use x=\"500.492188\" xlink:href=\"#DejaVuSans-101\"/>\n      </g>\n     </g>\n    </g>\n    <g id=\"xtick_2\">\n     <g id=\"line2d_2\">\n      <g>\n       <use style=\"stroke:#000000;stroke-width:0.8;\" x=\"284.3875\" xlink:href=\"#mcff57660d9\" y=\"224.64\"/>\n      </g>\n     </g>\n     <g id=\"text_2\">\n      <!-- reversible -->\n      <g transform=\"translate(287.146875 281.129062)rotate(-90)scale(0.1 -0.1)\">\n       <use xlink:href=\"#DejaVuSans-114\"/>\n       <use x=\"38.863281\" xlink:href=\"#DejaVuSans-101\"/>\n       <use x=\"100.386719\" xlink:href=\"#DejaVuSans-118\"/>\n       <use x=\"159.566406\" xlink:href=\"#DejaVuSans-101\"/>\n       <use x=\"221.089844\" xlink:href=\"#DejaVuSans-114\"/>\n       <use x=\"262.203125\" xlink:href=\"#DejaVuSans-115\"/>\n       <use x=\"314.302734\" xlink:href=\"#DejaVuSans-105\"/>\n       <use x=\"342.085938\" xlink:href=\"#DejaVuSans-98\"/>\n       <use x=\"405.5625\" xlink:href=\"#DejaVuSans-108\"/>\n       <use x=\"433.345703\" xlink:href=\"#DejaVuSans-101\"/>\n      </g>\n     </g>\n    </g>\n   </g>\n   <g id=\"matplotlib.axis_2\">\n    <g id=\"ytick_1\">\n     <g id=\"line2d_3\">\n      <defs>\n       <path d=\"M 0 0 \nL -3.5 0 \n\" id=\"me0a912e12d\" style=\"stroke:#000000;stroke-width:0.8;\"/>\n      </defs>\n      <g>\n       <use style=\"stroke:#000000;stroke-width:0.8;\" x=\"33.2875\" xlink:href=\"#me0a912e12d\" y=\"224.64\"/>\n      </g>\n     </g>\n     <g id=\"text_3\">\n      <!-- 0 -->\n      <defs>\n       <path d=\"M 31.78125 66.40625 \nQ 24.171875 66.40625 20.328125 58.90625 \nQ 16.5 51.421875 16.5 36.375 \nQ 16.5 21.390625 20.328125 13.890625 \nQ 24.171875 6.390625 31.78125 6.390625 \nQ 39.453125 6.390625 43.28125 13.890625 \nQ 47.125 21.390625 47.125 36.375 \nQ 47.125 51.421875 43.28125 58.90625 \nQ 39.453125 66.40625 31.78125 66.40625 \nz\nM 31.78125 74.21875 \nQ 44.046875 74.21875 50.515625 64.515625 \nQ 56.984375 54.828125 56.984375 36.375 \nQ 56.984375 17.96875 50.515625 8.265625 \nQ 44.046875 -1.421875 31.78125 -1.421875 \nQ 19.53125 -1.421875 13.0625 8.265625 \nQ 6.59375 17.96875 6.59375 36.375 \nQ 6.59375 54.828125 13.0625 64.515625 \nQ 19.53125 74.21875 31.78125 74.21875 \nz\n\" id=\"DejaVuSans-48\"/>\n      </defs>\n      <g transform=\"translate(19.925 228.439219)scale(0.1 -0.1)\">\n       <use xlink:href=\"#DejaVuSans-48\"/>\n      </g>\n     </g>\n    </g>\n    <g id=\"ytick_2\">\n     <g id=\"line2d_4\">\n      <g>\n       <use style=\"stroke:#000000;stroke-width:0.8;\" x=\"33.2875\" xlink:href=\"#me0a912e12d\" y=\"193.168007\"/>\n      </g>\n     </g>\n     <g id=\"text_4\">\n      <!-- 50 -->\n      <defs>\n       <path d=\"M 10.796875 72.90625 \nL 49.515625 72.90625 \nL 49.515625 64.59375 \nL 19.828125 64.59375 \nL 19.828125 46.734375 \nQ 21.96875 47.46875 24.109375 47.828125 \nQ 26.265625 48.1875 28.421875 48.1875 \nQ 40.625 48.1875 47.75 41.5 \nQ 54.890625 34.8125 54.890625 23.390625 \nQ 54.890625 11.625 47.5625 5.09375 \nQ 40.234375 -1.421875 26.90625 -1.421875 \nQ 22.3125 -1.421875 17.546875 -0.640625 \nQ 12.796875 0.140625 7.71875 1.703125 \nL 7.71875 11.625 \nQ 12.109375 9.234375 16.796875 8.0625 \nQ 21.484375 6.890625 26.703125 6.890625 \nQ 35.15625 6.890625 40.078125 11.328125 \nQ 45.015625 15.765625 45.015625 23.390625 \nQ 45.015625 31 40.078125 35.4375 \nQ 35.15625 39.890625 26.703125 39.890625 \nQ 22.75 39.890625 18.8125 39.015625 \nQ 14.890625 38.140625 10.796875 36.28125 \nz\n\" id=\"DejaVuSans-53\"/>\n      </defs>\n      <g transform=\"translate(13.5625 196.967226)scale(0.1 -0.1)\">\n       <use xlink:href=\"#DejaVuSans-53\"/>\n       <use x=\"63.623047\" xlink:href=\"#DejaVuSans-48\"/>\n      </g>\n     </g>\n    </g>\n    <g id=\"ytick_3\">\n     <g id=\"line2d_5\">\n      <g>\n       <use style=\"stroke:#000000;stroke-width:0.8;\" x=\"33.2875\" xlink:href=\"#me0a912e12d\" y=\"161.696014\"/>\n      </g>\n     </g>\n     <g id=\"text_5\">\n      <!-- 100 -->\n      <defs>\n       <path d=\"M 12.40625 8.296875 \nL 28.515625 8.296875 \nL 28.515625 63.921875 \nL 10.984375 60.40625 \nL 10.984375 69.390625 \nL 28.421875 72.90625 \nL 38.28125 72.90625 \nL 38.28125 8.296875 \nL 54.390625 8.296875 \nL 54.390625 0 \nL 12.40625 0 \nz\n\" id=\"DejaVuSans-49\"/>\n      </defs>\n      <g transform=\"translate(7.2 165.495233)scale(0.1 -0.1)\">\n       <use xlink:href=\"#DejaVuSans-49\"/>\n       <use x=\"63.623047\" xlink:href=\"#DejaVuSans-48\"/>\n       <use x=\"127.246094\" xlink:href=\"#DejaVuSans-48\"/>\n      </g>\n     </g>\n    </g>\n    <g id=\"ytick_4\">\n     <g id=\"line2d_6\">\n      <g>\n       <use style=\"stroke:#000000;stroke-width:0.8;\" x=\"33.2875\" xlink:href=\"#me0a912e12d\" y=\"130.224021\"/>\n      </g>\n     </g>\n     <g id=\"text_6\">\n      <!-- 150 -->\n      <g transform=\"translate(7.2 134.02324)scale(0.1 -0.1)\">\n       <use xlink:href=\"#DejaVuSans-49\"/>\n       <use x=\"63.623047\" xlink:href=\"#DejaVuSans-53\"/>\n       <use x=\"127.246094\" xlink:href=\"#DejaVuSans-48\"/>\n      </g>\n     </g>\n    </g>\n    <g id=\"ytick_5\">\n     <g id=\"line2d_7\">\n      <g>\n       <use style=\"stroke:#000000;stroke-width:0.8;\" x=\"33.2875\" xlink:href=\"#me0a912e12d\" y=\"98.752028\"/>\n      </g>\n     </g>\n     <g id=\"text_7\">\n      <!-- 200 -->\n      <defs>\n       <path d=\"M 19.1875 8.296875 \nL 53.609375 8.296875 \nL 53.609375 0 \nL 7.328125 0 \nL 7.328125 8.296875 \nQ 12.9375 14.109375 22.625 23.890625 \nQ 32.328125 33.6875 34.8125 36.53125 \nQ 39.546875 41.84375 41.421875 45.53125 \nQ 43.3125 49.21875 43.3125 52.78125 \nQ 43.3125 58.59375 39.234375 62.25 \nQ 35.15625 65.921875 28.609375 65.921875 \nQ 23.96875 65.921875 18.8125 64.3125 \nQ 13.671875 62.703125 7.8125 59.421875 \nL 7.8125 69.390625 \nQ 13.765625 71.78125 18.9375 73 \nQ 24.125 74.21875 28.421875 74.21875 \nQ 39.75 74.21875 46.484375 68.546875 \nQ 53.21875 62.890625 53.21875 53.421875 \nQ 53.21875 48.921875 51.53125 44.890625 \nQ 49.859375 40.875 45.40625 35.40625 \nQ 44.1875 33.984375 37.640625 27.21875 \nQ 31.109375 20.453125 19.1875 8.296875 \nz\n\" id=\"DejaVuSans-50\"/>\n      </defs>\n      <g transform=\"translate(7.2 102.551247)scale(0.1 -0.1)\">\n       <use xlink:href=\"#DejaVuSans-50\"/>\n       <use x=\"63.623047\" xlink:href=\"#DejaVuSans-48\"/>\n       <use x=\"127.246094\" xlink:href=\"#DejaVuSans-48\"/>\n      </g>\n     </g>\n    </g>\n    <g id=\"ytick_6\">\n     <g id=\"line2d_8\">\n      <g>\n       <use style=\"stroke:#000000;stroke-width:0.8;\" x=\"33.2875\" xlink:href=\"#me0a912e12d\" y=\"67.280035\"/>\n      </g>\n     </g>\n     <g id=\"text_8\">\n      <!-- 250 -->\n      <g transform=\"translate(7.2 71.079253)scale(0.1 -0.1)\">\n       <use xlink:href=\"#DejaVuSans-50\"/>\n       <use x=\"63.623047\" xlink:href=\"#DejaVuSans-53\"/>\n       <use x=\"127.246094\" xlink:href=\"#DejaVuSans-48\"/>\n      </g>\n     </g>\n    </g>\n    <g id=\"ytick_7\">\n     <g id=\"line2d_9\">\n      <g>\n       <use style=\"stroke:#000000;stroke-width:0.8;\" x=\"33.2875\" xlink:href=\"#me0a912e12d\" y=\"35.808042\"/>\n      </g>\n     </g>\n     <g id=\"text_9\">\n      <!-- 300 -->\n      <defs>\n       <path d=\"M 40.578125 39.3125 \nQ 47.65625 37.796875 51.625 33 \nQ 55.609375 28.21875 55.609375 21.1875 \nQ 55.609375 10.40625 48.1875 4.484375 \nQ 40.765625 -1.421875 27.09375 -1.421875 \nQ 22.515625 -1.421875 17.65625 -0.515625 \nQ 12.796875 0.390625 7.625 2.203125 \nL 7.625 11.71875 \nQ 11.71875 9.328125 16.59375 8.109375 \nQ 21.484375 6.890625 26.8125 6.890625 \nQ 36.078125 6.890625 40.9375 10.546875 \nQ 45.796875 14.203125 45.796875 21.1875 \nQ 45.796875 27.640625 41.28125 31.265625 \nQ 36.765625 34.90625 28.71875 34.90625 \nL 20.21875 34.90625 \nL 20.21875 43.015625 \nL 29.109375 43.015625 \nQ 36.375 43.015625 40.234375 45.921875 \nQ 44.09375 48.828125 44.09375 54.296875 \nQ 44.09375 59.90625 40.109375 62.90625 \nQ 36.140625 65.921875 28.71875 65.921875 \nQ 24.65625 65.921875 20.015625 65.03125 \nQ 15.375 64.15625 9.8125 62.3125 \nL 9.8125 71.09375 \nQ 15.4375 72.65625 20.34375 73.4375 \nQ 25.25 74.21875 29.59375 74.21875 \nQ 40.828125 74.21875 47.359375 69.109375 \nQ 53.90625 64.015625 53.90625 55.328125 \nQ 53.90625 49.265625 50.4375 45.09375 \nQ 46.96875 40.921875 40.578125 39.3125 \nz\n\" id=\"DejaVuSans-51\"/>\n      </defs>\n      <g transform=\"translate(7.2 39.60726)scale(0.1 -0.1)\">\n       <use xlink:href=\"#DejaVuSans-51\"/>\n       <use x=\"63.623047\" xlink:href=\"#DejaVuSans-48\"/>\n       <use x=\"127.246094\" xlink:href=\"#DejaVuSans-48\"/>\n      </g>\n     </g>\n    </g>\n   </g>\n   <g id=\"patch_5\">\n    <path d=\"M 33.2875 224.64 \nL 33.2875 7.2 \n\" style=\"fill:none;stroke:#000000;stroke-linecap:square;stroke-linejoin:miter;stroke-width:0.8;\"/>\n   </g>\n   <g id=\"patch_6\">\n    <path d=\"M 368.0875 224.64 \nL 368.0875 7.2 \n\" style=\"fill:none;stroke:#000000;stroke-linecap:square;stroke-linejoin:miter;stroke-width:0.8;\"/>\n   </g>\n   <g id=\"patch_7\">\n    <path d=\"M 33.2875 224.64 \nL 368.0875 224.64 \n\" style=\"fill:none;stroke:#000000;stroke-linecap:square;stroke-linejoin:miter;stroke-width:0.8;\"/>\n   </g>\n   <g id=\"patch_8\">\n    <path d=\"M 33.2875 7.2 \nL 368.0875 7.2 \n\" style=\"fill:none;stroke:#000000;stroke-linecap:square;stroke-linejoin:miter;stroke-width:0.8;\"/>\n   </g>\n   <g id=\"legend_1\">\n    <g id=\"patch_9\">\n     <path d=\"M 40.2875 29.878125 \nL 78.65 29.878125 \nQ 80.65 29.878125 80.65 27.878125 \nL 80.65 14.2 \nQ 80.65 12.2 78.65 12.2 \nL 40.2875 12.2 \nQ 38.2875 12.2 38.2875 14.2 \nL 38.2875 27.878125 \nQ 38.2875 29.878125 40.2875 29.878125 \nz\n\" style=\"fill:#ffffff;opacity:0.8;stroke:#cccccc;stroke-linejoin:miter;\"/>\n    </g>\n    <g id=\"patch_10\">\n     <path d=\"M 42.2875 23.798437 \nL 62.2875 23.798437 \nL 62.2875 16.798437 \nL 42.2875 16.798437 \nz\n\" style=\"fill:#1f77b4;\"/>\n    </g>\n    <g id=\"text_10\">\n     <!-- 0 -->\n     <g transform=\"translate(70.2875 23.798437)scale(0.1 -0.1)\">\n      <use xlink:href=\"#DejaVuSans-48\"/>\n     </g>\n    </g>\n   </g>\n  </g>\n </g>\n <defs>\n  <clipPath id=\"p5f4d1e9488\">\n   <rect height=\"217.44\" width=\"334.8\" x=\"33.2875\" y=\"7.2\"/>\n  </clipPath>\n </defs>\n</svg>\n",
            "application/pdf": "[encoded data removed]"
          },
          "metadata": {
            "needs_background": "light"
          }
        },
        {
          "output_type": "display_data",
          "data": {
            "text/plain": [
              "<Figure size 432x288 with 1 Axes>"
            ],
            "image/svg+xml": "<?xml version=\"1.0\" encoding=\"utf-8\" standalone=\"no\"?>\n<!DOCTYPE svg PUBLIC \"-//W3C//DTD SVG 1.1//EN\"\n  \"http://www.w3.org/Graphics/SVG/1.1/DTD/svg11.dtd\">\n<!-- Created with matplotlib (https://matplotlib.org/) -->\n<svg height=\"259.900937pt\" version=\"1.1\" viewBox=\"0 0 368.925 259.900937\" width=\"368.925pt\" xmlns=\"http://www.w3.org/2000/svg\" xmlns:xlink=\"http://www.w3.org/1999/xlink\">\n <defs>\n  <style type=\"text/css\">\n*{stroke-linecap:butt;stroke-linejoin:round;}\n  </style>\n </defs>\n <g id=\"figure_1\">\n  <g id=\"patch_1\">\n   <path d=\"M -0 259.900937 \nL 368.925 259.900937 \nL 368.925 0 \nL -0 0 \nz\n\" style=\"fill:none;\"/>\n  </g>\n  <g id=\"axes_1\">\n   <g id=\"patch_2\">\n    <path d=\"M 26.925 224.64 \nL 361.725 224.64 \nL 361.725 7.2 \nL 26.925 7.2 \nz\n\" style=\"fill:#ffffff;\"/>\n   </g>\n   <g id=\"patch_3\">\n    <path clip-path=\"url(#pfcca1d5dfc)\" d=\"M 40.875 224.64 \nL 68.775 224.64 \nL 68.775 196.763077 \nL 40.875 196.763077 \nz\n\" style=\"fill:#1f77b4;\"/>\n   </g>\n   <g id=\"patch_4\">\n    <path clip-path=\"url(#pfcca1d5dfc)\" d=\"M 96.675 224.64 \nL 124.575 224.64 \nL 124.575 216.675165 \nL 96.675 216.675165 \nz\n\" style=\"fill:#1f77b4;\"/>\n   </g>\n   <g id=\"patch_5\">\n    <path clip-path=\"url(#pfcca1d5dfc)\" d=\"M 152.475 224.64 \nL 180.375 224.64 \nL 180.375 17.554286 \nL 152.475 17.554286 \nz\n\" style=\"fill:#1f77b4;\"/>\n   </g>\n   <g id=\"patch_6\">\n    <path clip-path=\"url(#pfcca1d5dfc)\" d=\"M 208.275 224.64 \nL 236.175 224.64 \nL 236.175 109.14989 \nL 208.275 109.14989 \nz\n\" style=\"fill:#1f77b4;\"/>\n   </g>\n   <g id=\"patch_7\">\n    <path clip-path=\"url(#pfcca1d5dfc)\" d=\"M 264.075 224.64 \nL 291.975 224.64 \nL 291.975 200.745495 \nL 264.075 200.745495 \nz\n\" style=\"fill:#1f77b4;\"/>\n   </g>\n   <g id=\"patch_8\">\n    <path clip-path=\"url(#pfcca1d5dfc)\" d=\"M 319.875 224.64 \nL 347.775 224.64 \nL 347.775 208.71033 \nL 319.875 208.71033 \nz\n\" style=\"fill:#1f77b4;\"/>\n   </g>\n   <g id=\"matplotlib.axis_1\">\n    <g id=\"xtick_1\">\n     <g id=\"line2d_1\">\n      <defs>\n       <path d=\"M 0 0 \nL 0 3.5 \n\" id=\"m572b5ef1fb\" style=\"stroke:#000000;stroke-width:0.8;\"/>\n      </defs>\n      <g>\n       <use style=\"stroke:#000000;stroke-width:0.8;\" x=\"54.825\" xlink:href=\"#m572b5ef1fb\" y=\"224.64\"/>\n      </g>\n     </g>\n     <g id=\"text_1\">\n      <!-- OSV -->\n      <defs>\n       <path d=\"M 39.40625 66.21875 \nQ 28.65625 66.21875 22.328125 58.203125 \nQ 16.015625 50.203125 16.015625 36.375 \nQ 16.015625 22.609375 22.328125 14.59375 \nQ 28.65625 6.59375 39.40625 6.59375 \nQ 50.140625 6.59375 56.421875 14.59375 \nQ 62.703125 22.609375 62.703125 36.375 \nQ 62.703125 50.203125 56.421875 58.203125 \nQ 50.140625 66.21875 39.40625 66.21875 \nz\nM 39.40625 74.21875 \nQ 54.734375 74.21875 63.90625 63.9375 \nQ 73.09375 53.65625 73.09375 36.375 \nQ 73.09375 19.140625 63.90625 8.859375 \nQ 54.734375 -1.421875 39.40625 -1.421875 \nQ 24.03125 -1.421875 14.8125 8.828125 \nQ 5.609375 19.09375 5.609375 36.375 \nQ 5.609375 53.65625 14.8125 63.9375 \nQ 24.03125 74.21875 39.40625 74.21875 \nz\n\" id=\"DejaVuSans-79\"/>\n       <path d=\"M 53.515625 70.515625 \nL 53.515625 60.890625 \nQ 47.90625 63.578125 42.921875 64.890625 \nQ 37.9375 66.21875 33.296875 66.21875 \nQ 25.25 66.21875 20.875 63.09375 \nQ 16.5 59.96875 16.5 54.203125 \nQ 16.5 49.359375 19.40625 46.890625 \nQ 22.3125 44.4375 30.421875 42.921875 \nL 36.375 41.703125 \nQ 47.40625 39.59375 52.65625 34.296875 \nQ 57.90625 29 57.90625 20.125 \nQ 57.90625 9.515625 50.796875 4.046875 \nQ 43.703125 -1.421875 29.984375 -1.421875 \nQ 24.8125 -1.421875 18.96875 -0.25 \nQ 13.140625 0.921875 6.890625 3.21875 \nL 6.890625 13.375 \nQ 12.890625 10.015625 18.65625 8.296875 \nQ 24.421875 6.59375 29.984375 6.59375 \nQ 38.421875 6.59375 43.015625 9.90625 \nQ 47.609375 13.234375 47.609375 19.390625 \nQ 47.609375 24.75 44.3125 27.78125 \nQ 41.015625 30.8125 33.5 32.328125 \nL 27.484375 33.5 \nQ 16.453125 35.6875 11.515625 40.375 \nQ 6.59375 45.0625 6.59375 53.421875 \nQ 6.59375 63.09375 13.40625 68.65625 \nQ 20.21875 74.21875 32.171875 74.21875 \nQ 37.3125 74.21875 42.625 73.28125 \nQ 47.953125 72.359375 53.515625 70.515625 \nz\n\" id=\"DejaVuSans-83\"/>\n       <path d=\"M 28.609375 0 \nL 0.78125 72.90625 \nL 11.078125 72.90625 \nL 34.1875 11.53125 \nL 57.328125 72.90625 \nL 67.578125 72.90625 \nL 39.796875 0 \nz\n\" id=\"DejaVuSans-86\"/>\n      </defs>\n      <g transform=\"translate(57.584375 252.700938)rotate(-90)scale(0.1 -0.1)\">\n       <use xlink:href=\"#DejaVuSans-79\"/>\n       <use x=\"78.710938\" xlink:href=\"#DejaVuSans-83\"/>\n       <use x=\"142.1875\" xlink:href=\"#DejaVuSans-86\"/>\n      </g>\n     </g>\n    </g>\n    <g id=\"xtick_2\">\n     <g id=\"line2d_2\">\n      <g>\n       <use style=\"stroke:#000000;stroke-width:0.8;\" x=\"110.625\" xlink:href=\"#m572b5ef1fb\" y=\"224.64\"/>\n      </g>\n     </g>\n     <g id=\"text_2\">\n      <!-- OVS -->\n      <g transform=\"translate(113.384375 252.525937)rotate(-90)scale(0.1 -0.1)\">\n       <use xlink:href=\"#DejaVuSans-79\"/>\n       <use x=\"76.960938\" xlink:href=\"#DejaVuSans-86\"/>\n       <use x=\"145.369141\" xlink:href=\"#DejaVuSans-83\"/>\n      </g>\n     </g>\n    </g>\n    <g id=\"xtick_3\">\n     <g id=\"line2d_3\">\n      <g>\n       <use style=\"stroke:#000000;stroke-width:0.8;\" x=\"166.425\" xlink:href=\"#m572b5ef1fb\" y=\"224.64\"/>\n      </g>\n     </g>\n     <g id=\"text_3\">\n      <!-- SOV -->\n      <g transform=\"translate(169.184375 252.525937)rotate(-90)scale(0.1 -0.1)\">\n       <use xlink:href=\"#DejaVuSans-83\"/>\n       <use x=\"63.476562\" xlink:href=\"#DejaVuSans-79\"/>\n       <use x=\"140.4375\" xlink:href=\"#DejaVuSans-86\"/>\n      </g>\n     </g>\n    </g>\n    <g id=\"xtick_4\">\n     <g id=\"line2d_4\">\n      <g>\n       <use style=\"stroke:#000000;stroke-width:0.8;\" x=\"222.225\" xlink:href=\"#m572b5ef1fb\" y=\"224.64\"/>\n      </g>\n     </g>\n     <g id=\"text_4\">\n      <!-- SVO -->\n      <g transform=\"translate(224.984375 252.525937)rotate(-90)scale(0.1 -0.1)\">\n       <use xlink:href=\"#DejaVuSans-83\"/>\n       <use x=\"63.476562\" xlink:href=\"#DejaVuSans-86\"/>\n       <use x=\"130.134766\" xlink:href=\"#DejaVuSans-79\"/>\n      </g>\n     </g>\n    </g>\n    <g id=\"xtick_5\">\n     <g id=\"line2d_5\">\n      <g>\n       <use style=\"stroke:#000000;stroke-width:0.8;\" x=\"278.025\" xlink:href=\"#m572b5ef1fb\" y=\"224.64\"/>\n      </g>\n     </g>\n     <g id=\"text_5\">\n      <!-- VOS -->\n      <g transform=\"translate(280.784375 252.525937)rotate(-90)scale(0.1 -0.1)\">\n       <use xlink:href=\"#DejaVuSans-86\"/>\n       <use x=\"66.658203\" xlink:href=\"#DejaVuSans-79\"/>\n       <use x=\"145.369141\" xlink:href=\"#DejaVuSans-83\"/>\n      </g>\n     </g>\n    </g>\n    <g id=\"xtick_6\">\n     <g id=\"line2d_6\">\n      <g>\n       <use style=\"stroke:#000000;stroke-width:0.8;\" x=\"333.825\" xlink:href=\"#m572b5ef1fb\" y=\"224.64\"/>\n      </g>\n     </g>\n     <g id=\"text_6\">\n      <!-- VSO -->\n      <g transform=\"translate(336.584375 252.700938)rotate(-90)scale(0.1 -0.1)\">\n       <use xlink:href=\"#DejaVuSans-86\"/>\n       <use x=\"68.408203\" xlink:href=\"#DejaVuSans-83\"/>\n       <use x=\"131.884766\" xlink:href=\"#DejaVuSans-79\"/>\n      </g>\n     </g>\n    </g>\n   </g>\n   <g id=\"matplotlib.axis_2\">\n    <g id=\"ytick_1\">\n     <g id=\"line2d_7\">\n      <defs>\n       <path d=\"M 0 0 \nL -3.5 0 \n\" id=\"m1bff3ca4d8\" style=\"stroke:#000000;stroke-width:0.8;\"/>\n      </defs>\n      <g>\n       <use style=\"stroke:#000000;stroke-width:0.8;\" x=\"26.925\" xlink:href=\"#m1bff3ca4d8\" y=\"224.64\"/>\n      </g>\n     </g>\n     <g id=\"text_7\">\n      <!-- 0 -->\n      <defs>\n       <path d=\"M 31.78125 66.40625 \nQ 24.171875 66.40625 20.328125 58.90625 \nQ 16.5 51.421875 16.5 36.375 \nQ 16.5 21.390625 20.328125 13.890625 \nQ 24.171875 6.390625 31.78125 6.390625 \nQ 39.453125 6.390625 43.28125 13.890625 \nQ 47.125 21.390625 47.125 36.375 \nQ 47.125 51.421875 43.28125 58.90625 \nQ 39.453125 66.40625 31.78125 66.40625 \nz\nM 31.78125 74.21875 \nQ 44.046875 74.21875 50.515625 64.515625 \nQ 56.984375 54.828125 56.984375 36.375 \nQ 56.984375 17.96875 50.515625 8.265625 \nQ 44.046875 -1.421875 31.78125 -1.421875 \nQ 19.53125 -1.421875 13.0625 8.265625 \nQ 6.59375 17.96875 6.59375 36.375 \nQ 6.59375 54.828125 13.0625 64.515625 \nQ 19.53125 74.21875 31.78125 74.21875 \nz\n\" id=\"DejaVuSans-48\"/>\n      </defs>\n      <g transform=\"translate(13.5625 228.439219)scale(0.1 -0.1)\">\n       <use xlink:href=\"#DejaVuSans-48\"/>\n      </g>\n     </g>\n    </g>\n    <g id=\"ytick_2\">\n     <g id=\"line2d_8\">\n      <g>\n       <use style=\"stroke:#000000;stroke-width:0.8;\" x=\"26.925\" xlink:href=\"#m1bff3ca4d8\" y=\"184.815824\"/>\n      </g>\n     </g>\n     <g id=\"text_8\">\n      <!-- 10 -->\n      <defs>\n       <path d=\"M 12.40625 8.296875 \nL 28.515625 8.296875 \nL 28.515625 63.921875 \nL 10.984375 60.40625 \nL 10.984375 69.390625 \nL 28.421875 72.90625 \nL 38.28125 72.90625 \nL 38.28125 8.296875 \nL 54.390625 8.296875 \nL 54.390625 0 \nL 12.40625 0 \nz\n\" id=\"DejaVuSans-49\"/>\n      </defs>\n      <g transform=\"translate(7.2 188.615043)scale(0.1 -0.1)\">\n       <use xlink:href=\"#DejaVuSans-49\"/>\n       <use x=\"63.623047\" xlink:href=\"#DejaVuSans-48\"/>\n      </g>\n     </g>\n    </g>\n    <g id=\"ytick_3\">\n     <g id=\"line2d_9\">\n      <g>\n       <use style=\"stroke:#000000;stroke-width:0.8;\" x=\"26.925\" xlink:href=\"#m1bff3ca4d8\" y=\"144.991648\"/>\n      </g>\n     </g>\n     <g id=\"text_9\">\n      <!-- 20 -->\n      <defs>\n       <path d=\"M 19.1875 8.296875 \nL 53.609375 8.296875 \nL 53.609375 0 \nL 7.328125 0 \nL 7.328125 8.296875 \nQ 12.9375 14.109375 22.625 23.890625 \nQ 32.328125 33.6875 34.8125 36.53125 \nQ 39.546875 41.84375 41.421875 45.53125 \nQ 43.3125 49.21875 43.3125 52.78125 \nQ 43.3125 58.59375 39.234375 62.25 \nQ 35.15625 65.921875 28.609375 65.921875 \nQ 23.96875 65.921875 18.8125 64.3125 \nQ 13.671875 62.703125 7.8125 59.421875 \nL 7.8125 69.390625 \nQ 13.765625 71.78125 18.9375 73 \nQ 24.125 74.21875 28.421875 74.21875 \nQ 39.75 74.21875 46.484375 68.546875 \nQ 53.21875 62.890625 53.21875 53.421875 \nQ 53.21875 48.921875 51.53125 44.890625 \nQ 49.859375 40.875 45.40625 35.40625 \nQ 44.1875 33.984375 37.640625 27.21875 \nQ 31.109375 20.453125 19.1875 8.296875 \nz\n\" id=\"DejaVuSans-50\"/>\n      </defs>\n      <g transform=\"translate(7.2 148.790867)scale(0.1 -0.1)\">\n       <use xlink:href=\"#DejaVuSans-50\"/>\n       <use x=\"63.623047\" xlink:href=\"#DejaVuSans-48\"/>\n      </g>\n     </g>\n    </g>\n    <g id=\"ytick_4\">\n     <g id=\"line2d_10\">\n      <g>\n       <use style=\"stroke:#000000;stroke-width:0.8;\" x=\"26.925\" xlink:href=\"#m1bff3ca4d8\" y=\"105.167473\"/>\n      </g>\n     </g>\n     <g id=\"text_10\">\n      <!-- 30 -->\n      <defs>\n       <path d=\"M 40.578125 39.3125 \nQ 47.65625 37.796875 51.625 33 \nQ 55.609375 28.21875 55.609375 21.1875 \nQ 55.609375 10.40625 48.1875 4.484375 \nQ 40.765625 -1.421875 27.09375 -1.421875 \nQ 22.515625 -1.421875 17.65625 -0.515625 \nQ 12.796875 0.390625 7.625 2.203125 \nL 7.625 11.71875 \nQ 11.71875 9.328125 16.59375 8.109375 \nQ 21.484375 6.890625 26.8125 6.890625 \nQ 36.078125 6.890625 40.9375 10.546875 \nQ 45.796875 14.203125 45.796875 21.1875 \nQ 45.796875 27.640625 41.28125 31.265625 \nQ 36.765625 34.90625 28.71875 34.90625 \nL 20.21875 34.90625 \nL 20.21875 43.015625 \nL 29.109375 43.015625 \nQ 36.375 43.015625 40.234375 45.921875 \nQ 44.09375 48.828125 44.09375 54.296875 \nQ 44.09375 59.90625 40.109375 62.90625 \nQ 36.140625 65.921875 28.71875 65.921875 \nQ 24.65625 65.921875 20.015625 65.03125 \nQ 15.375 64.15625 9.8125 62.3125 \nL 9.8125 71.09375 \nQ 15.4375 72.65625 20.34375 73.4375 \nQ 25.25 74.21875 29.59375 74.21875 \nQ 40.828125 74.21875 47.359375 69.109375 \nQ 53.90625 64.015625 53.90625 55.328125 \nQ 53.90625 49.265625 50.4375 45.09375 \nQ 46.96875 40.921875 40.578125 39.3125 \nz\n\" id=\"DejaVuSans-51\"/>\n      </defs>\n      <g transform=\"translate(7.2 108.966691)scale(0.1 -0.1)\">\n       <use xlink:href=\"#DejaVuSans-51\"/>\n       <use x=\"63.623047\" xlink:href=\"#DejaVuSans-48\"/>\n      </g>\n     </g>\n    </g>\n    <g id=\"ytick_5\">\n     <g id=\"line2d_11\">\n      <g>\n       <use style=\"stroke:#000000;stroke-width:0.8;\" x=\"26.925\" xlink:href=\"#m1bff3ca4d8\" y=\"65.343297\"/>\n      </g>\n     </g>\n     <g id=\"text_11\">\n      <!-- 40 -->\n      <defs>\n       <path d=\"M 37.796875 64.3125 \nL 12.890625 25.390625 \nL 37.796875 25.390625 \nz\nM 35.203125 72.90625 \nL 47.609375 72.90625 \nL 47.609375 25.390625 \nL 58.015625 25.390625 \nL 58.015625 17.1875 \nL 47.609375 17.1875 \nL 47.609375 0 \nL 37.796875 0 \nL 37.796875 17.1875 \nL 4.890625 17.1875 \nL 4.890625 26.703125 \nz\n\" id=\"DejaVuSans-52\"/>\n      </defs>\n      <g transform=\"translate(7.2 69.142515)scale(0.1 -0.1)\">\n       <use xlink:href=\"#DejaVuSans-52\"/>\n       <use x=\"63.623047\" xlink:href=\"#DejaVuSans-48\"/>\n      </g>\n     </g>\n    </g>\n    <g id=\"ytick_6\">\n     <g id=\"line2d_12\">\n      <g>\n       <use style=\"stroke:#000000;stroke-width:0.8;\" x=\"26.925\" xlink:href=\"#m1bff3ca4d8\" y=\"25.519121\"/>\n      </g>\n     </g>\n     <g id=\"text_12\">\n      <!-- 50 -->\n      <defs>\n       <path d=\"M 10.796875 72.90625 \nL 49.515625 72.90625 \nL 49.515625 64.59375 \nL 19.828125 64.59375 \nL 19.828125 46.734375 \nQ 21.96875 47.46875 24.109375 47.828125 \nQ 26.265625 48.1875 28.421875 48.1875 \nQ 40.625 48.1875 47.75 41.5 \nQ 54.890625 34.8125 54.890625 23.390625 \nQ 54.890625 11.625 47.5625 5.09375 \nQ 40.234375 -1.421875 26.90625 -1.421875 \nQ 22.3125 -1.421875 17.546875 -0.640625 \nQ 12.796875 0.140625 7.71875 1.703125 \nL 7.71875 11.625 \nQ 12.109375 9.234375 16.796875 8.0625 \nQ 21.484375 6.890625 26.703125 6.890625 \nQ 35.15625 6.890625 40.078125 11.328125 \nQ 45.015625 15.765625 45.015625 23.390625 \nQ 45.015625 31 40.078125 35.4375 \nQ 35.15625 39.890625 26.703125 39.890625 \nQ 22.75 39.890625 18.8125 39.015625 \nQ 14.890625 38.140625 10.796875 36.28125 \nz\n\" id=\"DejaVuSans-53\"/>\n      </defs>\n      <g transform=\"translate(7.2 29.31834)scale(0.1 -0.1)\">\n       <use xlink:href=\"#DejaVuSans-53\"/>\n       <use x=\"63.623047\" xlink:href=\"#DejaVuSans-48\"/>\n      </g>\n     </g>\n    </g>\n   </g>\n   <g id=\"patch_9\">\n    <path d=\"M 26.925 224.64 \nL 26.925 7.2 \n\" style=\"fill:none;stroke:#000000;stroke-linecap:square;stroke-linejoin:miter;stroke-width:0.8;\"/>\n   </g>\n   <g id=\"patch_10\">\n    <path d=\"M 361.725 224.64 \nL 361.725 7.2 \n\" style=\"fill:none;stroke:#000000;stroke-linecap:square;stroke-linejoin:miter;stroke-width:0.8;\"/>\n   </g>\n   <g id=\"patch_11\">\n    <path d=\"M 26.925 224.64 \nL 361.725 224.64 \n\" style=\"fill:none;stroke:#000000;stroke-linecap:square;stroke-linejoin:miter;stroke-width:0.8;\"/>\n   </g>\n   <g id=\"patch_12\">\n    <path d=\"M 26.925 7.2 \nL 361.725 7.2 \n\" style=\"fill:none;stroke:#000000;stroke-linecap:square;stroke-linejoin:miter;stroke-width:0.8;\"/>\n   </g>\n   <g id=\"legend_1\">\n    <g id=\"patch_13\">\n     <path d=\"M 316.3625 29.878125 \nL 354.725 29.878125 \nQ 356.725 29.878125 356.725 27.878125 \nL 356.725 14.2 \nQ 356.725 12.2 354.725 12.2 \nL 316.3625 12.2 \nQ 314.3625 12.2 314.3625 14.2 \nL 314.3625 27.878125 \nQ 314.3625 29.878125 316.3625 29.878125 \nz\n\" style=\"fill:#ffffff;opacity:0.8;stroke:#cccccc;stroke-linejoin:miter;\"/>\n    </g>\n    <g id=\"patch_14\">\n     <path d=\"M 318.3625 23.798437 \nL 338.3625 23.798437 \nL 338.3625 16.798437 \nL 318.3625 16.798437 \nz\n\" style=\"fill:#1f77b4;\"/>\n    </g>\n    <g id=\"text_13\">\n     <!-- 0 -->\n     <g transform=\"translate(346.3625 23.798437)scale(0.1 -0.1)\">\n      <use xlink:href=\"#DejaVuSans-48\"/>\n     </g>\n    </g>\n   </g>\n  </g>\n </g>\n <defs>\n  <clipPath id=\"pfcca1d5dfc\">\n   <rect height=\"217.44\" width=\"334.8\" x=\"26.925\" y=\"7.2\"/>\n  </clipPath>\n </defs>\n</svg>\n",
            "application/pdf": "[encoded data removed]"
          },
          "metadata": {
            "needs_background": "light"
          }
        }
      ]
    },
    {
      "cell_type": "markdown",
      "source": [
        "# **INTERACTIONS**"
      ],
      "metadata": {
        "id": "xDF6qsGc894Z"
      }
    },
    {
      "cell_type": "code",
      "source": [
        "def choose_utterance(agent):   # sample from a normal distribution with SD=0.25 and mean of the teacher\n",
        "    agent_utterance=normal(agent[0],.25)\n",
        "    return agent_utterance\n",
        "\n",
        "# Let's check that this works\n",
        "# You can run this multiple times to see different chosen utterances for different agents\n",
        "\n",
        "pop=make_population(4)\n",
        "vowel = choose_utterance(pop[0])\n",
        "print(\"The agent's mean was\", pop[0][0])\n",
        "print(\"The agent's chosen utterance is\", vowel)"
      ],
      "metadata": {
        "id": "Ah4SLfBg9ANN"
      },
      "execution_count": null,
      "outputs": []
    }
  ]
}